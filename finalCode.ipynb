{
 "cells": [
  {
   "cell_type": "code",
   "execution_count": null,
   "metadata": {
    "collapsed": true
   },
   "outputs": [],
   "source": [
    "# Author - Kaustubh Chaudhuri\n",
    "# With the help of Machine Learning Engineering Nanodegree from Udacity,\n",
    "# I have developed this program- Kaustubh Chaudhuri\n",
    "# Guidance of Dr. Sukgi Choi\n",
    "\n",
    "from sklearn.datasets import load_files       \n",
    "from keras.utils import np_utils\n",
    "import numpy as np\n",
    "from glob import glob\n",
    "import cv2                \n",
    "import matplotlib.pyplot as plt                        \n",
    "%matplotlib inline  \n",
    "from keras.preprocessing import image                  \n",
    "from tqdm import tqdm\n",
    "from keras import backend as K\n",
    "\n",
    "\n"
   ]
  },
  {
   "cell_type": "code",
   "execution_count": null,
   "metadata": {
    "collapsed": true
   },
   "outputs": [],
   "source": [
    "# define function to load train, test, and validation datasets\n",
    "def load_dataset(path, s):\n",
    "    data = load_files(path)\n",
    "    human_files = np.array(data['filenames'])\n",
    "    human_targets = np_utils.to_categorical(np.array(data['target']), s)\n",
    "    return human_files, human_targets"
   ]
  },
  {
   "cell_type": "code",
   "execution_count": null,
   "metadata": {
    "collapsed": true
   },
   "outputs": [],
   "source": [
    "#this is the number of individuals to be recognized\n",
    "subjects = 5\n",
    "\n",
    "# load train, test, and validation datasets\n",
    "train_files, train_targets = load_dataset('humanImages/train', subjects)\n",
    "valid_files, valid_targets = load_dataset('humanImages/valid', subjects)\n",
    "test_files, test_targets = load_dataset('humanImages/test', subjects)\n",
    "\n",
    "# load list of human names\n",
    "human_names = [item[subjects:-1] for item in sorted(glob(\"humanImages/train/*/\"))]\n",
    "\n",
    "# print statistics about the dataset\n",
    "print('There are %d individuals.' % len(human_names))\n",
    "print('There are %s total images.\\n' % len(np.hstack([train_files, valid_files, test_files])))\n",
    "print('There are %d training images.' % len(train_files))\n",
    "print('There are %d validation images.' % len(valid_files))\n",
    "print('There are %d test images.'% len(test_files))"
   ]
  },
  {
   "cell_type": "code",
   "execution_count": null,
   "metadata": {
    "collapsed": true
   },
   "outputs": [],
   "source": [
    "# extract pre-trained Haar Cascade face detector from cv2 library\n",
    "face_cascade = cv2.CascadeClassifier('haarcascades/haarcascade_frontalface_alt.xml')"
   ]
  },
  {
   "cell_type": "code",
   "execution_count": null,
   "metadata": {
    "collapsed": true
   },
   "outputs": [],
   "source": [
    "# function to detect the faces in an image using Haar Cascade technique\n",
    "def face_detector(img_path):\n",
    "    img = cv2.imread(img_path)\n",
    "    gray = cv2.cvtColor(img, cv2.COLOR_BGR2GRAY)\n",
    "    faces = face_cascade.detectMultiScale(gray)\n",
    "    return len(faces) > 0"
   ]
  },
  {
   "cell_type": "code",
   "execution_count": null,
   "metadata": {
    "collapsed": true
   },
   "outputs": [],
   "source": [
    "# function to extract the face from the image supplied\n",
    "def facecut(img_path):\n",
    "    img = cv2.imread(img_path)\n",
    "    gray = cv2.cvtColor(img, cv2.COLOR_BGR2GRAY)\n",
    "    faces = [[0,0,0,0]]\n",
    "    faces = face_cascade.detectMultiScale(gray)\n",
    "    \n",
    "#returns the cordinates of the detected face or else returns [0,0,0,0]\n",
    "    if type(faces) is tuple:\n",
    "        return [0,0,0,0]\n",
    "    else:\n",
    "        return faces[0]"
   ]
  },
  {
   "cell_type": "code",
   "execution_count": null,
   "metadata": {
    "collapsed": true
   },
   "outputs": [],
   "source": [
    "# function to convert each image in the given path to a 4D tensor(datastructure)\n",
    "def path_to_tensor(img_path):\n",
    "\n",
    "    raw_img = cv2.imread(img_path)\n",
    "\n",
    "#cx - is the starting x cordinate of the box around the detected face\n",
    "#cy - is the starting y cordinate of the box around the detected face\n",
    "#ch - height of the box around the detected face\n",
    "#cx - width of the box around the detected face\n",
    "    cx,cy,ch,cw = facecut(img_path)\n",
    "    \n",
    "    if ch != 0:\n",
    "        img = cv2.resize(raw_img[cy:cy+ch,cx:cx+cw],(int(224), int(224)), interpolation = cv2.INTER_CUBIC)\n",
    "\n",
    "#convert 2D image to 3D tensor with shape (224, 224, 3) \n",
    "        x = image.img_to_array(img)\n",
    "    else:\n",
    "        x = np.zeros(shape=(224, 224, 3))\n",
    "        \n",
    "# convert 3D tensor to 4D tensor with shape (1, 224, 224, 3) and return 4D tensor\n",
    "    return np.expand_dims(x, axis=0)\n",
    "   \n",
    "\n",
    "def paths_to_tensor(img_paths):\n",
    "    list_of_tensors = [path_to_tensor(img_path) for img_path in tqdm(img_paths)]\n",
    "    return np.vstack(list_of_tensors)"
   ]
  },
  {
   "cell_type": "code",
   "execution_count": null,
   "metadata": {
    "collapsed": true
   },
   "outputs": [],
   "source": [
    "from PIL import ImageFile                            \n",
    "ImageFile.LOAD_TRUNCATED_IMAGES = True                 \n",
    "\n",
    "# pre-process the data for Keras and normalizing the pixel values by 256\n",
    "train_tensors = paths_to_tensor(train_files).astype('float32')/255\n",
    "valid_tensors = paths_to_tensor(valid_files).astype('float32')/255\n",
    "test_tensors = paths_to_tensor(test_files).astype('float32')/255"
   ]
  },
  {
   "cell_type": "code",
   "execution_count": null,
   "metadata": {
    "collapsed": true
   },
   "outputs": [],
   "source": [
    "from keras.layers import Conv2D, MaxPooling2D, GlobalAveragePooling2D\n",
    "from keras.layers import Dropout, Flatten, Dense\n",
    "from keras.models import Sequential\n",
    "\n",
    "model = Sequential()\n",
    "\n",
    "model.add(Conv2D(16, kernel_size=(2, 2), activation='relu', input_shape=(224,224,3)))\n",
    "model.add(MaxPooling2D(pool_size=(2, 2), strides=None, padding='valid', data_format=None))\n",
    "\n",
    "model.add(Dropout(0.4))\n",
    "\n",
    "\n",
    "model.add(Conv2D(32, kernel_size=(2, 2), activation='relu', input_shape=(112,112,3)))\n",
    "model.add(MaxPooling2D(pool_size=(2, 2), strides=None, padding='valid', data_format=None))\n",
    "\n",
    "model.add(Dropout(0.4))\n",
    "\n",
    "\n",
    "model.add(Conv2D(64, kernel_size=(2, 2), activation='relu', input_shape=(56,56,3)))\n",
    "model.add(MaxPooling2D(pool_size=(2, 2), strides=None, padding='valid', data_format=None))\n",
    "\n",
    "model.add(Dropout(0.4))\n",
    "\n",
    "\n",
    "model.add(Dense(subjects, activation='softmax'))\n",
    "\n",
    "model.add(GlobalAveragePooling2D(data_format=None))\n",
    "\n",
    "\n",
    "model.summary()"
   ]
  },
  {
   "cell_type": "code",
   "execution_count": null,
   "metadata": {
    "collapsed": true
   },
   "outputs": [],
   "source": [
    "# compiles the above CNN architecture with the specified learning rate(optimizer), loss function and metric a measurement\n",
    "model.compile(optimizer='rmsprop', loss='categorical_crossentropy', metrics=['accuracy'])"
   ]
  },
  {
   "cell_type": "code",
   "execution_count": null,
   "metadata": {
    "collapsed": true
   },
   "outputs": [],
   "source": [
    "from keras.callbacks import ModelCheckpoint  \n",
    "\n",
    "# number of iterations\n",
    "epochs = 500\n",
    "\n",
    "# saves the model in the folder saved_models/ with the name 'weights.best.7_12_v1'(any name) in hdf5 format\n",
    "checkpointer = ModelCheckpoint(filepath='saved_models/weights.best.8_12_v0.hdf5', \n",
    "                               verbose=1, save_best_only=True)\n",
    "\n",
    "# starts training the model with the train tensors\n",
    "model.fit(train_tensors, train_targets, \n",
    "          validation_data=(valid_tensors, valid_targets),\n",
    "          epochs=epochs, batch_size=20, callbacks=[checkpointer], verbose=1)"
   ]
  },
  {
   "cell_type": "code",
   "execution_count": null,
   "metadata": {
    "collapsed": true
   },
   "outputs": [],
   "source": [
    "# loads the saved model with the weights, this step saves us from training the model everytime\n",
    "model.load_weights('saved_models/weights.best.7_12_v0_version1.hdf5')"
   ]
  },
  {
   "cell_type": "code",
   "execution_count": 38,
   "metadata": {},
   "outputs": [
    {
     "name": "stdout",
     "output_type": "stream",
     "text": [
      "Test accuracy: 81.8182%\n"
     ]
    }
   ],
   "source": [
    "# get index of predicted person for each image in test set\n",
    "friend_prediction = [np.argmax(model.predict(np.expand_dims(tensor, axis=0))) for tensor in test_tensors]\n",
    "\n",
    "# report test accuracy\n",
    "test_accuracy = 100*np.sum(np.array(friend_prediction)==np.argmax(test_targets, axis=1))/len(friend_prediction)\n",
    "print('Test accuracy: %.4f%%' % test_accuracy)"
   ]
  },
  {
   "cell_type": "code",
   "execution_count": 39,
   "metadata": {},
   "outputs": [
    {
     "name": "stdout",
     "output_type": "stream",
     "text": [
      "[[ 0.12438317  0.09723664  0.27288526  0.03357404  0.47192094]]\n",
      "[[ 0.13904156  0.2179421   0.39775792  0.08742823  0.15783022]]\n",
      "[[ 0.04653785  0.22481127  0.00097527  0.53150946  0.19616586]]\n",
      "[[ 0.15052773  0.03183563  0.24317318  0.50212592  0.07233757]]\n",
      "[[ 0.1332821   0.27653021  0.06495868  0.512402    0.01282704]]\n",
      "[[ 0.10780086  0.06337125  0.25456157  0.0301108   0.54415536]]\n",
      "[[ 0.09277145  0.0496951   0.53549153  0.02662375  0.29541788]]\n",
      "[[ 0.13113521  0.13429679  0.30790329  0.03279104  0.39387375]]\n",
      "[[ 0.11339898  0.05926939  0.52455169  0.02592628  0.27685368]]\n",
      "[[ 0.17376707  0.32598165  0.30191222  0.10231743  0.09602174]]\n",
      "[[ 0.07031171  0.05325769  0.00123497  0.61622888  0.25896657]]\n",
      "[[ 0.29659939  0.42703155  0.01720468  0.08438451  0.17478003]]\n",
      "[[ 0.13299164  0.05381297  0.49749455  0.19046481  0.12523629]]\n",
      "[[ 0.20741831  0.58826035  0.01061841  0.11830077  0.07540183]]\n",
      "[[ 0.11064693  0.08859558  0.31052989  0.01378215  0.47644541]]\n",
      "[[ 0.14086719  0.06942822  0.40768921  0.04137307  0.34064218]]\n",
      "[[ 0.12988237  0.0691366   0.44766554  0.03649516  0.31682017]]\n",
      "[[ 0.14579095  0.0513134   0.45268339  0.21995153  0.13026074]]\n",
      "[[ 0.36111721  0.39121091  0.02091929  0.07977761  0.14697494]]\n",
      "[[ 0.2542474   0.09286678  0.03198164  0.25518656  0.3657175 ]]\n",
      "[[ 0.10058034  0.14855866  0.00331999  0.53741926  0.21012153]]\n",
      "[[ 0.11027851  0.00822515  0.20764351  0.56566417  0.10818867]]\n"
     ]
    }
   ],
   "source": [
    "# prints the probabilty matrix of the output layer when each of the input is predicted\n",
    "for tensor in test_tensors:\n",
    "    print((model.predict(np.expand_dims(tensor, axis=0))))"
   ]
  },
  {
   "cell_type": "code",
   "execution_count": null,
   "metadata": {
    "collapsed": true
   },
   "outputs": [],
   "source": [
    "# this function converts the image to 4d tensor and forwards it to the CNN to make a prediction\n",
    "def faceCNN(img_path):\n",
    "    who_tensor = path_to_tensor(img_path).astype('float32')/255\n",
    "    result = model.predict(who_tensor)\n",
    "    print(\"Similarity is {}\".format(result.max()))\n",
    "    return human_names[np.argmax(result)]"
   ]
  },
  {
   "cell_type": "code",
   "execution_count": null,
   "metadata": {
    "collapsed": true
   },
   "outputs": [],
   "source": [
    "# function predicts the most similar face seen in the neural network\n",
    "def face_predictor(img_path):\n",
    "    temp = faceCNN(img_path)\n",
    "    print(\"The human is similar to {}\".format(temp))"
   ]
  },
  {
   "cell_type": "code",
   "execution_count": null,
   "metadata": {
    "collapsed": true
   },
   "outputs": [],
   "source": [
    "# 'whoisthis' folder contains all the images that are to be predicted\n",
    "final_test = np.array(glob(\"whoisthis/*\"))\n",
    "for i in final_test:\n",
    "    face_predictor(i)"
   ]
  },
  {
   "cell_type": "code",
   "execution_count": null,
   "metadata": {
    "collapsed": true
   },
   "outputs": [],
   "source": []
  }
 ],
 "metadata": {
  "kernelspec": {
   "display_name": "Python 3",
   "language": "python",
   "name": "python3"
  },
  "language_info": {
   "codemirror_mode": {
    "name": "ipython",
    "version": 3
   },
   "file_extension": ".py",
   "mimetype": "text/x-python",
   "name": "python",
   "nbconvert_exporter": "python",
   "pygments_lexer": "ipython3",
   "version": "3.6.1"
  }
 },
 "nbformat": 4,
 "nbformat_minor": 2
}
